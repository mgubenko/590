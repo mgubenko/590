{
  "nbformat": 4,
  "nbformat_minor": 0,
  "metadata": {
    "colab": {
      "name": "590_Hw1.ipynb",
      "provenance": []
    },
    "kernelspec": {
      "name": "python3",
      "display_name": "Python 3"
    }
  },
  "cells": [
    {
      "cell_type": "markdown",
      "metadata": {
        "id": "TZXRrPn3GQ3n",
        "colab_type": "text"
      },
      "source": [
        "ANLY 590 \\\n",
        "HW 1 \\\n",
        "Masha Gubenko\n",
        "\n"
      ]
    },
    {
      "cell_type": "markdown",
      "metadata": {
        "id": "h0yqAWNm1dfo",
        "colab_type": "text"
      },
      "source": [
        "**Question 1**"
      ]
    },
    {
      "cell_type": "markdown",
      "metadata": {
        "id": "zk695y251XI_",
        "colab_type": "text"
      },
      "source": [
        "*Using the accompanying Hitters dataset, we will explore\n",
        "regression models to predict a player’s Salary from other variables. You must python.*"
      ]
    },
    {
      "cell_type": "markdown",
      "metadata": {
        "id": "ranH8D0P1gfF",
        "colab_type": "text"
      },
      "source": [
        "The code below loads the necessary packages for data loading and processing."
      ]
    },
    {
      "cell_type": "code",
      "metadata": {
        "id": "BusNgTQ8GbLo",
        "colab_type": "code",
        "colab": {}
      },
      "source": [
        "import pandas as pd\n",
        "import numpy as np\n",
        "import matplotlib.pyplot as plt"
      ],
      "execution_count": 1,
      "outputs": []
    },
    {
      "cell_type": "markdown",
      "metadata": {
        "id": "OkNCqZLk1pxb",
        "colab_type": "text"
      },
      "source": [
        "The code below loads the data directly from the github link."
      ]
    },
    {
      "cell_type": "code",
      "metadata": {
        "id": "trNgZKGPHfDK",
        "colab_type": "code",
        "colab": {
          "base_uri": "https://localhost:8080/",
          "height": 224
        },
        "outputId": "d0f49ac2-0b21-49e1-bb16-dc9d084be842"
      },
      "source": [
        "#Loading the data\n",
        "url_data = 'https://gist.githubusercontent.com/keeganhines/59974f1ebef97bbaa44fb19143f90bad/raw/d9bcf657f97201394a59fffd801c44347eb7e28d/Hitters.csv'\n",
        "hit_data = pd.read_csv(url_data) #reading in the data\n",
        "\n",
        "#Cleaning the data\n",
        "hit_data = hit_data.dropna() #droping all empty values\n",
        "hit_data = hit_data.reset_index(drop=True) #reseting the row index\n",
        "hit_data = hit_data.drop(columns = ['Unnamed: 0','League','Division','NewLeague']) #removing the non numeric columns\n",
        "hit_data.head()"
      ],
      "execution_count": 6,
      "outputs": [
        {
          "output_type": "execute_result",
          "data": {
            "text/html": [
              "<div>\n",
              "<style scoped>\n",
              "    .dataframe tbody tr th:only-of-type {\n",
              "        vertical-align: middle;\n",
              "    }\n",
              "\n",
              "    .dataframe tbody tr th {\n",
              "        vertical-align: top;\n",
              "    }\n",
              "\n",
              "    .dataframe thead th {\n",
              "        text-align: right;\n",
              "    }\n",
              "</style>\n",
              "<table border=\"1\" class=\"dataframe\">\n",
              "  <thead>\n",
              "    <tr style=\"text-align: right;\">\n",
              "      <th></th>\n",
              "      <th>AtBat</th>\n",
              "      <th>Hits</th>\n",
              "      <th>HmRun</th>\n",
              "      <th>Runs</th>\n",
              "      <th>RBI</th>\n",
              "      <th>Walks</th>\n",
              "      <th>Years</th>\n",
              "      <th>CAtBat</th>\n",
              "      <th>CHits</th>\n",
              "      <th>CHmRun</th>\n",
              "      <th>CRuns</th>\n",
              "      <th>CRBI</th>\n",
              "      <th>CWalks</th>\n",
              "      <th>PutOuts</th>\n",
              "      <th>Assists</th>\n",
              "      <th>Errors</th>\n",
              "      <th>Salary</th>\n",
              "    </tr>\n",
              "  </thead>\n",
              "  <tbody>\n",
              "    <tr>\n",
              "      <th>0</th>\n",
              "      <td>315</td>\n",
              "      <td>81</td>\n",
              "      <td>7</td>\n",
              "      <td>24</td>\n",
              "      <td>38</td>\n",
              "      <td>39</td>\n",
              "      <td>14</td>\n",
              "      <td>3449</td>\n",
              "      <td>835</td>\n",
              "      <td>69</td>\n",
              "      <td>321</td>\n",
              "      <td>414</td>\n",
              "      <td>375</td>\n",
              "      <td>632</td>\n",
              "      <td>43</td>\n",
              "      <td>10</td>\n",
              "      <td>475.0</td>\n",
              "    </tr>\n",
              "    <tr>\n",
              "      <th>1</th>\n",
              "      <td>479</td>\n",
              "      <td>130</td>\n",
              "      <td>18</td>\n",
              "      <td>66</td>\n",
              "      <td>72</td>\n",
              "      <td>76</td>\n",
              "      <td>3</td>\n",
              "      <td>1624</td>\n",
              "      <td>457</td>\n",
              "      <td>63</td>\n",
              "      <td>224</td>\n",
              "      <td>266</td>\n",
              "      <td>263</td>\n",
              "      <td>880</td>\n",
              "      <td>82</td>\n",
              "      <td>14</td>\n",
              "      <td>480.0</td>\n",
              "    </tr>\n",
              "    <tr>\n",
              "      <th>2</th>\n",
              "      <td>496</td>\n",
              "      <td>141</td>\n",
              "      <td>20</td>\n",
              "      <td>65</td>\n",
              "      <td>78</td>\n",
              "      <td>37</td>\n",
              "      <td>11</td>\n",
              "      <td>5628</td>\n",
              "      <td>1575</td>\n",
              "      <td>225</td>\n",
              "      <td>828</td>\n",
              "      <td>838</td>\n",
              "      <td>354</td>\n",
              "      <td>200</td>\n",
              "      <td>11</td>\n",
              "      <td>3</td>\n",
              "      <td>500.0</td>\n",
              "    </tr>\n",
              "    <tr>\n",
              "      <th>3</th>\n",
              "      <td>321</td>\n",
              "      <td>87</td>\n",
              "      <td>10</td>\n",
              "      <td>39</td>\n",
              "      <td>42</td>\n",
              "      <td>30</td>\n",
              "      <td>2</td>\n",
              "      <td>396</td>\n",
              "      <td>101</td>\n",
              "      <td>12</td>\n",
              "      <td>48</td>\n",
              "      <td>46</td>\n",
              "      <td>33</td>\n",
              "      <td>805</td>\n",
              "      <td>40</td>\n",
              "      <td>4</td>\n",
              "      <td>91.5</td>\n",
              "    </tr>\n",
              "    <tr>\n",
              "      <th>4</th>\n",
              "      <td>594</td>\n",
              "      <td>169</td>\n",
              "      <td>4</td>\n",
              "      <td>74</td>\n",
              "      <td>51</td>\n",
              "      <td>35</td>\n",
              "      <td>11</td>\n",
              "      <td>4408</td>\n",
              "      <td>1133</td>\n",
              "      <td>19</td>\n",
              "      <td>501</td>\n",
              "      <td>336</td>\n",
              "      <td>194</td>\n",
              "      <td>282</td>\n",
              "      <td>421</td>\n",
              "      <td>25</td>\n",
              "      <td>750.0</td>\n",
              "    </tr>\n",
              "  </tbody>\n",
              "</table>\n",
              "</div>"
            ],
            "text/plain": [
              "   AtBat  Hits  HmRun  Runs  RBI  ...  CWalks  PutOuts  Assists  Errors  Salary\n",
              "0    315    81      7    24   38  ...     375      632       43      10   475.0\n",
              "1    479   130     18    66   72  ...     263      880       82      14   480.0\n",
              "2    496   141     20    65   78  ...     354      200       11       3   500.0\n",
              "3    321    87     10    39   42  ...      33      805       40       4    91.5\n",
              "4    594   169      4    74   51  ...     194      282      421      25   750.0\n",
              "\n",
              "[5 rows x 17 columns]"
            ]
          },
          "metadata": {
            "tags": []
          },
          "execution_count": 6
        }
      ]
    },
    {
      "cell_type": "markdown",
      "metadata": {
        "id": "oWhGbpnqIjhJ",
        "colab_type": "text"
      },
      "source": [
        "**Question 1.1**"
      ]
    },
    {
      "cell_type": "markdown",
      "metadata": {
        "id": "h4KR8jczIn7p",
        "colab_type": "text"
      },
      "source": [
        "The code below imports the Lasso and LassoCV model packages from sklearn. Then, I set up the numeric variables as predictors and the *Salary* variable values as the outcome variable. I then use LassoCV to identify the optimal $\\lambda$ to use for my lasso regression."
      ]
    },
    {
      "cell_type": "code",
      "metadata": {
        "id": "I2mRa5elIDHx",
        "colab_type": "code",
        "colab": {
          "base_uri": "https://localhost:8080/",
          "height": 34
        },
        "outputId": "a84b6d3b-4a67-403c-f511-5b65683bbda3"
      },
      "source": [
        "from sklearn.linear_model import Lasso, LassoCV\n",
        "from sklearn.metrics import mean_squared_error\n",
        "from sklearn.model_selection import train_test_split\n",
        "\n",
        "valueArray = hit_data.values\n",
        "X = valueArray[:, 0:16] #get all of the variables except salary\n",
        "Y = valueArray[:, 16] #save the salary variable separately\n",
        "\n",
        "#Split the dataset into train and test portions\n",
        "X_train, X_validate, Y_train, Y_validate = train_test_split(X, Y, test_size=0.4, random_state=7) \n",
        "\n",
        "#Setting up the array of potential lambdas\n",
        "lambdas = np.arange(0.1,100,0.01) \n",
        "\n",
        "#Set up the lasso regression using cross validation to determine the right lambda\n",
        "lassocv = LassoCV(alphas = lambdas, cv = 5, max_iter = 10000, normalize=True)\n",
        "\n",
        "#Fit the model on the training data\n",
        "lassocv.fit(X_train, Y_train)\n",
        "alph = lassocv.alpha_ #identify the best lambda\n",
        "print(alph)"
      ],
      "execution_count": 11,
      "outputs": [
        {
          "output_type": "stream",
          "text": [
            "2.529999999999999\n"
          ],
          "name": "stdout"
        }
      ]
    },
    {
      "cell_type": "code",
      "metadata": {
        "id": "gSnW02oXw3gK",
        "colab_type": "code",
        "colab": {
          "base_uri": "https://localhost:8080/",
          "height": 384
        },
        "outputId": "199e3f24-bb60-4c9d-d657-72f68a0424e1"
      },
      "source": [
        "#Plotting the coefficients at different lambda levels\n",
        "lambdas = np.arange(0.1,5,0.01) #array of potential lambdas\n",
        "temp = [] #empty array for coefficients\n",
        "\n",
        "for i in lambdas:\n",
        "  lasso = Lasso(alpha = i, normalize = True)\n",
        "  lasso.fit(X_train, Y_train)\n",
        "\n",
        "  temp.append(lasso.coef_)\n",
        "\n",
        "fig = plt.figure()\n",
        "ax = plt.axes()\n",
        "ax.plot(lambdas, temp)\n",
        "plt.xlabel('lambda')\n",
        "plt.ylabel('coefficients')"
      ],
      "execution_count": 12,
      "outputs": [
        {
          "output_type": "stream",
          "text": [
            "/usr/local/lib/python3.6/dist-packages/sklearn/linear_model/_coordinate_descent.py:476: ConvergenceWarning: Objective did not converge. You might want to increase the number of iterations. Duality gap: 6427.242972508073, tolerance: 3401.2959965992886\n",
            "  positive)\n",
            "/usr/local/lib/python3.6/dist-packages/sklearn/linear_model/_coordinate_descent.py:476: ConvergenceWarning: Objective did not converge. You might want to increase the number of iterations. Duality gap: 4771.829326059669, tolerance: 3401.2959965992886\n",
            "  positive)\n"
          ],
          "name": "stderr"
        },
        {
          "output_type": "execute_result",
          "data": {
            "text/plain": [
              "Text(0, 0.5, 'coefficients')"
            ]
          },
          "metadata": {
            "tags": []
          },
          "execution_count": 12
        },
        {
          "output_type": "display_data",
          "data": {
            "image/png": "[encoded data removed]",
            "text/plain": [
              "<Figure size 432x288 with 1 Axes>"
            ]
          },
          "metadata": {
            "tags": [],
            "needs_background": "light"
          }
        }
      ]
    },
    {
      "cell_type": "code",
      "metadata": {
        "id": "3QR9_q5jDOsJ",
        "colab_type": "code",
        "colab": {
          "base_uri": "https://localhost:8080/",
          "height": 323
        },
        "outputId": "dbba9a3b-9923-405a-d42a-073144fbf294"
      },
      "source": [
        "#Set up the lasso model using the best lambda\n",
        "lasso = Lasso(alpha = alph, normalize=True)\n",
        "lasso.fit(X_train,Y_train) #fit the new model to the training data\n",
        "\n",
        "predictions = lasso.predict(X_validate) #run the model on the test set\n",
        "print(mean_squared_error(Y_validate, predictions)) #calculate the MSE\n",
        "\n",
        "#Fitting the model to the test set\n",
        "lasso.fit(X_validate,Y_validate)\n",
        "pd.Series(lasso.coef_, index = hit_data.columns[:-1]) #calculate the coefficients "
      ],
      "execution_count": 35,
      "outputs": [
        {
          "output_type": "stream",
          "text": [
            "102573.09780088905\n"
          ],
          "name": "stdout"
        },
        {
          "output_type": "execute_result",
          "data": {
            "text/plain": [
              "AtBat      0.000000\n",
              "Hits       1.554669\n",
              "HmRun     -0.000000\n",
              "Runs       0.000000\n",
              "RBI        0.000000\n",
              "Walks      1.937641\n",
              "Years      0.000000\n",
              "CAtBat     0.000000\n",
              "CHits      0.000000\n",
              "CHmRun     1.521905\n",
              "CRuns      0.495128\n",
              "CRBI       0.000000\n",
              "CWalks     0.000000\n",
              "PutOuts    0.095819\n",
              "Assists   -0.000000\n",
              "Errors    -0.000000\n",
              "dtype: float64"
            ]
          },
          "metadata": {
            "tags": []
          },
          "execution_count": 35
        }
      ]
    },
    {
      "cell_type": "markdown",
      "metadata": {
        "id": "zhHe9W4w03nc",
        "colab_type": "text"
      },
      "source": [
        "We can see after running the lasso model using the best identified lambda that we only have 5 out of 16 predictors left with non zero coefficients. It makes sense that hits, walks, CRBI and CRuns are significnat predictors for the salary variable. "
      ]
    },
    {
      "cell_type": "markdown",
      "metadata": {
        "id": "lEYFaVA60emY",
        "colab_type": "text"
      },
      "source": [
        "**Question 1.2**"
      ]
    },
    {
      "cell_type": "markdown",
      "metadata": {
        "id": "X5FBwpC503iP",
        "colab_type": "text"
      },
      "source": [
        "*Repeat with Ridge Regression. Visualize coeffecient trajectories. Use crossvalidation to find the optimal vaule of the regularization penalty.*"
      ]
    },
    {
      "cell_type": "markdown",
      "metadata": {
        "id": "pr7_inG20muT",
        "colab_type": "text"
      },
      "source": [
        "The code below imports Ridge from sklearn. I set up the numeric variables as predictors for the Salary variable."
      ]
    },
    {
      "cell_type": "code",
      "metadata": {
        "id": "TDwuICf20qJX",
        "colab_type": "code",
        "colab": {
          "base_uri": "https://localhost:8080/",
          "height": 34
        },
        "outputId": "776f253b-dbba-48f3-b5ed-90d4b0025559"
      },
      "source": [
        "from sklearn.linear_model import Ridge, RidgeCV \n",
        "from sklearn.metrics import mean_squared_error\n",
        "from sklearn.model_selection import train_test_split\n",
        "\n",
        "valueArray = hit_data.values\n",
        "X = valueArray[:, 0:16] #get all of the variables except salary\n",
        "Y = valueArray[:, 16] #save the salary variable separately\n",
        "\n",
        "#Split the dataset into train and test portions\n",
        "X_train, X_validate, Y_train, Y_validate = train_test_split(X, Y, test_size=0.4, random_state=7) \n",
        "\n",
        "#Setting up the array of potential lambdas\n",
        "lambdas = np.arange(0.01,100,0.01) \n",
        "\n",
        "#Set up the ridge regression using cross validation to determine the right lambda\n",
        "ridgecv = RidgeCV(alphas = lambdas, cv=5, normalize = True)\n",
        "\n",
        "#Fit the model on the training data\n",
        "ridgecv.fit(X_train, Y_train)\n",
        "alph = ridgecv.alpha_ #identifying the best lambda\n",
        "print(alph)"
      ],
      "execution_count": 38,
      "outputs": [
        {
          "output_type": "stream",
          "text": [
            "0.05\n"
          ],
          "name": "stdout"
        }
      ]
    },
    {
      "cell_type": "code",
      "metadata": {
        "id": "PcADUC6M3iY6",
        "colab_type": "code",
        "colab": {
          "base_uri": "https://localhost:8080/",
          "height": 296
        },
        "outputId": "753729a8-7bf2-43fc-9426-1c0f81158f62"
      },
      "source": [
        "#Plotting the coefficients at different lambda levels\n",
        "lambdas = np.arange(0.1,5,0.005) #array of potential lambdas\n",
        "temp = [] #empty array for coefficients\n",
        "\n",
        "for i in lambdas:\n",
        "  ridge = Ridge(alpha = i, normalize = True)\n",
        "  ridge.fit(X_train, Y_train)\n",
        "\n",
        "  temp.append(ridge.coef_)\n",
        "\n",
        "fig = plt.figure()\n",
        "ax = plt.axes()\n",
        "ax.plot(lambdas, temp)\n",
        "plt.xlabel('lambda')\n",
        "plt.ylabel('coefficients')"
      ],
      "execution_count": 39,
      "outputs": [
        {
          "output_type": "execute_result",
          "data": {
            "text/plain": [
              "Text(0, 0.5, 'coefficients')"
            ]
          },
          "metadata": {
            "tags": []
          },
          "execution_count": 39
        },
        {
          "output_type": "display_data",
          "data": {
            "image/png": "[encoded data removed]",
            "text/plain": [
              "<Figure size 432x288 with 1 Axes>"
            ]
          },
          "metadata": {
            "tags": [],
            "needs_background": "light"
          }
        }
      ]
    },
    {
      "cell_type": "code",
      "metadata": {
        "id": "NKA0NPlx_h-2",
        "colab_type": "code",
        "colab": {
          "base_uri": "https://localhost:8080/",
          "height": 34
        },
        "outputId": "4bb8cd07-60b3-4323-8103-823d2f3e856a"
      },
      "source": [
        "#Set up the ridge model using the best lambda\n",
        "ridge = Ridge(alpha = alph, normalize = True)\n",
        "ridge.fit(X_train,Y_train) #fit the new model to the training data\n",
        "\n",
        "predictions = ridge.predict(X_validate) #run the model on the test set\n",
        "mean_squared_error(Y_validate, predictions) #calculate the MSE"
      ],
      "execution_count": 40,
      "outputs": [
        {
          "output_type": "execute_result",
          "data": {
            "text/plain": [
              "104454.8951754281"
            ]
          },
          "metadata": {
            "tags": []
          },
          "execution_count": 40
        }
      ]
    },
    {
      "cell_type": "code",
      "metadata": {
        "id": "xHT3BljTBFMm",
        "colab_type": "code",
        "colab": {
          "base_uri": "https://localhost:8080/",
          "height": 306
        },
        "outputId": "2dd446e4-79fb-42ba-8889-2e15aa4ca875"
      },
      "source": [
        "ridge.fit(X_validate, Y_validate) #fit the final model to the entire dataset\n",
        "pd.Series(ridge.coef_, index = hit_data.columns[:-1]) #calculate the coefficients "
      ],
      "execution_count": 41,
      "outputs": [
        {
          "output_type": "execute_result",
          "data": {
            "text/plain": [
              "AtBat      -0.014002\n",
              "Hits        2.087751\n",
              "HmRun     -10.913321\n",
              "Runs        1.626998\n",
              "RBI        -0.632325\n",
              "Walks       2.681258\n",
              "Years      -4.112397\n",
              "CAtBat     -0.026834\n",
              "CHits       0.078688\n",
              "CHmRun      2.225243\n",
              "CRuns       0.538389\n",
              "CRBI        0.132934\n",
              "CWalks     -0.163643\n",
              "PutOuts     0.191372\n",
              "Assists    -0.363527\n",
              "Errors      3.688295\n",
              "dtype: float64"
            ]
          },
          "metadata": {
            "tags": []
          },
          "execution_count": 41
        }
      ]
    },
    {
      "cell_type": "markdown",
      "metadata": {
        "id": "RwFyIJNw0qqT",
        "colab_type": "text"
      },
      "source": [
        "**Question 1.3**"
      ]
    },
    {
      "cell_type": "markdown",
      "metadata": {
        "id": "-1-OQOfG0tX0",
        "colab_type": "text"
      },
      "source": [
        "*Explain in your own words the bias-variance tradeoff. What\n",
        "role does regularization play in this tradeoff? Make reference to your findings\n",
        "in number (1) to describe models of high/low bias and variance.*"
      ]
    },
    {
      "cell_type": "markdown",
      "metadata": {
        "id": "HmdUcF7p02Yh",
        "colab_type": "text"
      },
      "source": [
        "The bias measures the difference between the predictions of the model and the true values the model is trying to predict. The higher the bias the less the model fits the training data. On the other hand, variance measures the variability of the prediction for each of the data points. In other words, it measure how much model overfits. \\\n",
        "\n",
        "The bias/variance tradeoff is effectively a tradeoff of how each model is underfiting or overfitting the data. Higher variance/lower bias means the model is underfiting, whereas the lower variance/higher bias means that the model is overfitting. \\\n",
        "\n",
        "It is a balance to choose the right model that balances the bias and variance. As we can see from the Lasso & Ridge examples above, the choice alpha is crucial to managing the bias/variance tradeoff. We can chose an alpha that fits the training data really well, but does not perform well on the test data. "
      ]
    }
  ]
}